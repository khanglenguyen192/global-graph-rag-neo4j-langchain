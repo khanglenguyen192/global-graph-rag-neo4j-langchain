{
 "cells": [
  {
   "cell_type": "code",
   "execution_count": null,
   "outputs": [],
   "source": [
    "from langchain.embeddings import OpenAIEmbeddings\n",
    "from langchain.chat_models import ChatOpenAI\n",
    "from langchain.vectorstores import MongoDBAtlasVectorSearch\n",
    "from pymongo import MongoClient\n",
    "from langchain.text_splitter import CharacterTextSplitter\n",
    "from langchain.chains import RetrievalQA\n",
    "from dotenv import load_dotenv\n",
    "import os\n",
    "import pandas as pd"
   ],
   "metadata": {
    "collapsed": false
   },
   "id": "43668489c9e9537c"
  },
  {
   "cell_type": "code",
   "execution_count": null,
   "outputs": [],
   "source": [
    "load_dotenv() "
   ],
   "metadata": {
    "collapsed": false
   },
   "id": "initial_id"
  },
  {
   "cell_type": "code",
   "execution_count": null,
   "outputs": [],
   "source": [
    "# Embedding model\n",
    "embedding_model = OpenAIEmbeddings(model=\"text-embedding-3-small\")\n",
    "llm = ChatOpenAI(temperature=0, model_name=\"gpt-4o\")"
   ],
   "metadata": {
    "collapsed": false
   },
   "id": "7351e3ee6febce62"
  },
  {
   "cell_type": "code",
   "execution_count": null,
   "outputs": [],
   "source": [
    "# Kết nối MongoDB\n",
    "mongo_uri = os.getenv(\"MONGO_DB_URI\")\n",
    "client = MongoClient(mongo_uri)\n",
    "db = client[\"rag_db\"]\n",
    "collection = db[\"documents\"]"
   ],
   "metadata": {
    "collapsed": false
   },
   "id": "3668ce23af0eee17"
  },
  {
   "cell_type": "code",
   "execution_count": null,
   "outputs": [],
   "source": [
    "docs = [\"\"]\n",
    "\n",
    "for i in range(1, 64):\n",
    "    chunkDoc = \"\"\n",
    "    chunkFileName = \"p\" + str(i) + \".txt\"\n",
    "    with open(\"data/quydinhdaotaothacsi/\" + chunkFileName, \"r\", encoding=\"utf-8\") as f:\n",
    "        chunkDoc = f.read()\n",
    "    docs.append(chunkDoc)   \n",
    "\n",
    "# Chia nhỏ đoạn văn\n",
    "splitter = CharacterTextSplitter(chunk_size=100, chunk_overlap=20)\n",
    "documents = splitter.create_documents(docs)"
   ],
   "metadata": {
    "collapsed": false
   },
   "id": "c6eb593084f13ad1"
  },
  {
   "cell_type": "code",
   "execution_count": null,
   "outputs": [],
   "source": [
    "documents=[]\n",
    "# Tạo VectorStore từ embedding\n",
    "vector_store = MongoDBAtlasVectorSearch.from_documents(\n",
    "    documents=documents,\n",
    "    embedding=embedding_model,\n",
    "    collection=collection,\n",
    "    index_name=\"default\",\n",
    ")"
   ],
   "metadata": {
    "collapsed": false
   },
   "id": "dfa436e69f4593ad"
  },
  {
   "cell_type": "code",
   "execution_count": null,
   "outputs": [],
   "source": [
    "retriever = vector_store.as_retriever(search_type=\"similarity\", search_kwargs={\"k\": 3})\n",
    "\n",
    "qa_chain = RetrievalQA.from_chain_type(\n",
    "    llm=llm,\n",
    "    retriever=retriever,\n",
    "    return_source_documents=True\n",
    ")\n",
    "# print(\"Sources:\", [doc.metadata for doc in response['source_documents']])"
   ],
   "metadata": {
    "collapsed": false
   },
   "id": "254dc25dd9b93ed9"
  },
  {
   "cell_type": "code",
   "execution_count": null,
   "outputs": [],
   "source": [
    "query = \"Các hình thức thi kết thúc môn học là gì?\"\n",
    "response = qa_chain(query)\n",
    "\n",
    "print(response[\"result\"])"
   ],
   "metadata": {
    "collapsed": false
   },
   "id": "be570d26c6fde240"
  },
  {
   "cell_type": "markdown",
   "source": [
    "### Generate Answer"
   ],
   "metadata": {
    "collapsed": false
   },
   "id": "deedfe67758c5925"
  },
  {
   "cell_type": "code",
   "execution_count": null,
   "outputs": [],
   "source": [
    "def generate_rag_answers_from_csv(csv_path: str, output_path: str):\n",
    "    df = pd.read_csv(csv_path)\n",
    "    real_answers = []\n",
    "\n",
    "    for i, row in df.iterrows():\n",
    "        try:\n",
    "            result = qa_chain(row[\"question\"])\n",
    "            real_answers.append(result[\"result\"])\n",
    "        except Exception as e:\n",
    "            real_answers.append(f\"ERROR: {e}\")\n",
    "\n",
    "    df[\"rag_answer\"] = real_answers\n",
    "    df.to_csv(output_path, index=False)\n",
    "    return df"
   ],
   "metadata": {
    "collapsed": false
   },
   "id": "fc409280b9a144b6"
  },
  {
   "cell_type": "code",
   "execution_count": null,
   "outputs": [],
   "source": [
    "generate_rag_answers_from_csv(\"evaluation_data/Quy_dinh_dao_tao_Thac_si.csv\", \"evaluation_data/out_put_Quy_dinh_dao_tao_Thac_si_rag1.csv\")"
   ],
   "metadata": {
    "collapsed": false
   },
   "id": "47902fa2ca59559e"
  },
  {
   "cell_type": "code",
   "execution_count": null,
   "outputs": [],
   "source": [],
   "metadata": {
    "collapsed": false
   },
   "id": "75b9d561ef527343"
  }
 ],
 "metadata": {
  "kernelspec": {
   "display_name": "Python 3",
   "language": "python",
   "name": "python3"
  },
  "language_info": {
   "codemirror_mode": {
    "name": "ipython",
    "version": 2
   },
   "file_extension": ".py",
   "mimetype": "text/x-python",
   "name": "python",
   "nbconvert_exporter": "python",
   "pygments_lexer": "ipython2",
   "version": "2.7.6"
  }
 },
 "nbformat": 4,
 "nbformat_minor": 5
}
